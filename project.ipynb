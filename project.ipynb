{
 "cells": [
  {
   "cell_type": "code",
   "execution_count": 6,
   "metadata": {},
   "outputs": [
    {
     "name": "stdout",
     "output_type": "stream",
     "text": [
      "Hello world!\n",
      "<class 'str'>\n",
      "\n"
     ]
    }
   ],
   "source": [
    "print(\"Hello world!\")\n",
    "print(type(\"Hello world!\"))\n",
    "print(\"\")\n"
   ]
  },
  {
   "cell_type": "code",
   "execution_count": 36,
   "metadata": {},
   "outputs": [
    {
     "name": "stdout",
     "output_type": "stream",
     "text": [
      "jOHn\n",
      "JOHN\n",
      "john\n",
      "JohN\n",
      "John\n",
      "john\n",
      "<class 'str'>\n"
     ]
    }
   ],
   "source": [
    "a = \"jOHn\"\n",
    "print(a)\n",
    "print(a.upper())\n",
    "print(a.lower())\n",
    "print(a.swapcase())\n",
    "print(a.capitalize())\n",
    "print(a.casefold())\n",
    "print(type(a))"
   ]
  },
  {
   "cell_type": "code",
   "execution_count": 40,
   "metadata": {},
   "outputs": [
    {
     "name": "stdout",
     "output_type": "stream",
     "text": [
      "your String  hello  is a <class 'str'>\n"
     ]
    }
   ],
   "source": [
    "a = str(input('Enter a String'))\n",
    "x = \"your String \"\n",
    "y = \"is\"\n",
    "z = \"a\"\n",
    "print( x, a , y , z ,(type(a)))"
   ]
  }
 ],
 "metadata": {
  "kernelspec": {
   "display_name": "Python 3",
   "language": "python",
   "name": "python3"
  },
  "language_info": {
   "codemirror_mode": {
    "name": "ipython",
    "version": 3
   },
   "file_extension": ".py",
   "mimetype": "text/x-python",
   "name": "python",
   "nbconvert_exporter": "python",
   "pygments_lexer": "ipython3",
   "version": "3.12.0"
  }
 },
 "nbformat": 4,
 "nbformat_minor": 2
}
